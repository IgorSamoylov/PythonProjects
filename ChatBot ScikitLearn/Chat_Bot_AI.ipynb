{
  "nbformat": 4,
  "nbformat_minor": 0,
  "metadata": {
    "colab": {
      "name": "Chat Bot AI.ipynb",
      "provenance": [],
      "collapsed_sections": []
    },
    "kernelspec": {
      "name": "python3",
      "display_name": "Python 3"
    },
    "language_info": {
      "name": "python"
    }
  },
  "cells": [
    {
      "cell_type": "code",
      "execution_count": 194,
      "metadata": {
        "id": "4TSMOdWyOKdO"
      },
      "outputs": [],
      "source": [
        "import random\n",
        "import nltk\n",
        "import json\n",
        "from sklearn.feature_extraction.text import CountVectorizer\n",
        "from sklearn.datasets import load_iris\n",
        "from sklearn.linear_model import LogisticRegression\n",
        "from sklearn.model_selection import train_test_split"
      ]
    },
    {
      "cell_type": "code",
      "source": [
        "config_file_path = \"/content/drive/MyDrive/Colab Notebooks/BOT_CONFIG1.json\" \n",
        "with open(config_file_path, 'r', encoding='UTF-8') as f:\n",
        "  BOT_CONFIG = json.load(f)"
      ],
      "metadata": {
        "id": "wadiEqlYO-t1"
      },
      "execution_count": 195,
      "outputs": []
    },
    {
      "cell_type": "code",
      "source": [
        "intents = []\n",
        "texts = []\n",
        "for intent in BOT_CONFIG['intents'].keys():\n",
        "  for word in BOT_CONFIG['intents'][intent]['examples']:\n",
        "    intents.append(intent)\n",
        "    texts.append(word)\n",
        "len(texts), len(intents)"
      ],
      "metadata": {
        "id": "nHn2XsUXH36-",
        "colab": {
          "base_uri": "https://localhost:8080/"
        },
        "outputId": "edb7ad5d-58fa-4a80-daff-25adb4753a4e"
      },
      "execution_count": 196,
      "outputs": [
        {
          "output_type": "execute_result",
          "data": {
            "text/plain": [
              "(16, 16)"
            ]
          },
          "metadata": {},
          "execution_count": 196
        }
      ]
    },
    {
      "cell_type": "code",
      "source": [
        "print(texts)\n",
        "print(intents)"
      ],
      "metadata": {
        "id": "9U3wg8q75Dv6",
        "colab": {
          "base_uri": "https://localhost:8080/"
        },
        "outputId": "0342706c-00a5-4b6b-d8d0-7aa649d579d0"
      },
      "execution_count": 197,
      "outputs": [
        {
          "output_type": "stream",
          "name": "stdout",
          "text": [
            "['привет!', 'здорово', 'хай!', 'здравствуй', 'добрый день', 'хэллоу', 'здравия желаю', 'Здаров', 'пока', 'до свидания', 'увидимся', 'удачи!', 'до встречи', 'счастливо!', 'Покеда)', 'Ладно, пока']\n",
            "['hello', 'hello', 'hello', 'hello', 'hello', 'hello', 'hello', 'hello', 'buy', 'buy', 'buy', 'buy', 'buy', 'buy', 'buy', 'buy']\n"
          ]
        }
      ]
    },
    {
      "cell_type": "code",
      "source": [
        "train_texts, test_texts, intents_train, intents_test = train_test_split(texts, intents, test_size=0.2, random_state=90)\n",
        "print(train_texts)\n",
        "print(test_texts)\n",
        "print(intents_train)\n",
        "print(intents_test)"
      ],
      "metadata": {
        "id": "8ifPxfpVoFCP",
        "colab": {
          "base_uri": "https://localhost:8080/"
        },
        "outputId": "d8c2ed28-b36c-4754-ac3c-6c08a4374832"
      },
      "execution_count": 198,
      "outputs": [
        {
          "output_type": "stream",
          "name": "stdout",
          "text": [
            "['до свидания', 'до встречи', 'привет!', 'пока', 'Покеда)', 'хэллоу', 'добрый день', 'Здаров', 'здравствуй', 'хай!', 'счастливо!', 'удачи!']\n",
            "['здорово', 'увидимся', 'здравия желаю', 'Ладно, пока']\n",
            "['buy', 'buy', 'hello', 'buy', 'buy', 'hello', 'hello', 'hello', 'hello', 'hello', 'buy', 'buy']\n",
            "['hello', 'buy', 'hello', 'buy']\n"
          ]
        }
      ]
    },
    {
      "cell_type": "code",
      "source": [
        "vectorizer = CountVectorizer() # ngram_range={1,5}, analyzer='char_wb' preprocessor=clean_text\n",
        "X_train = vectorizer.fit_transform(train_texts)\n",
        "X_test = vectorizer.transform(test_texts)"
      ],
      "metadata": {
        "id": "WgYMUCBoN5Uy"
      },
      "execution_count": 199,
      "outputs": []
    },
    {
      "cell_type": "code",
      "source": [
        "vocab = vectorizer.get_feature_names_out()\n",
        "len(vocab)"
      ],
      "metadata": {
        "id": "yGvSYbtEp4C2",
        "colab": {
          "base_uri": "https://localhost:8080/"
        },
        "outputId": "e1cc0aa8-7b8e-421a-849a-3e085bed2b69"
      },
      "execution_count": 200,
      "outputs": [
        {
          "output_type": "execute_result",
          "data": {
            "text/plain": [
              "14"
            ]
          },
          "metadata": {},
          "execution_count": 200
        }
      ]
    },
    {
      "cell_type": "code",
      "source": [
        "clf = LogisticRegression().fit(X_train, intents_train)\n",
        "\n",
        "clf.score(X_train, intents_train), clf.score(X_test, intents_test)"
      ],
      "metadata": {
        "id": "eLw5iFZdOfCq",
        "colab": {
          "base_uri": "https://localhost:8080/"
        },
        "outputId": "ecc04686-74da-49e8-80d3-1e7d1be38428"
      },
      "execution_count": 201,
      "outputs": [
        {
          "output_type": "execute_result",
          "data": {
            "text/plain": [
              "(1.0, 0.75)"
            ]
          },
          "metadata": {},
          "execution_count": 201
        }
      ]
    },
    {
      "cell_type": "code",
      "source": [
        "clf.predict(vectorizer.transform(['здорово']))"
      ],
      "metadata": {
        "id": "P2YSTY7LmFrr",
        "colab": {
          "base_uri": "https://localhost:8080/"
        },
        "outputId": "5d591e0f-abee-4b9e-dd4c-363af08a3cfe"
      },
      "execution_count": 208,
      "outputs": [
        {
          "output_type": "execute_result",
          "data": {
            "text/plain": [
              "array(['hello'], dtype='<U5')"
            ]
          },
          "metadata": {},
          "execution_count": 208
        }
      ]
    },
    {
      "cell_type": "code",
      "source": [
        "clf.predict(vectorizer.transform(['пока']))"
      ],
      "metadata": {
        "id": "lEi30OCo8db4",
        "colab": {
          "base_uri": "https://localhost:8080/"
        },
        "outputId": "1894bdc2-1b2a-485c-c5ed-bf7b9f239396"
      },
      "execution_count": 209,
      "outputs": [
        {
          "output_type": "execute_result",
          "data": {
            "text/plain": [
              "array(['buy'], dtype='<U5')"
            ]
          },
          "metadata": {},
          "execution_count": 209
        }
      ]
    },
    {
      "cell_type": "code",
      "source": [
        "def clean_text(text):\n",
        "  result = \"\"\n",
        "  for letter in text:\n",
        "    letter = letter.lower()\n",
        "    if letter in \"абвгдеёжзийклмнопрстуфхцчшщъыьэюя \":\n",
        "      result += letter\n",
        "  return result"
      ],
      "metadata": {
        "id": "4YE_mRjLYaaP"
      },
      "execution_count": 204,
      "outputs": []
    },
    {
      "cell_type": "code",
      "source": [
        " def get_intent_by_model(text):\n",
        "   return clf.predict(vectorizer.transform([text]))[0]"
      ],
      "metadata": {
        "id": "YXJ7DqGPPnpQ"
      },
      "execution_count": 213,
      "outputs": []
    },
    {
      "cell_type": "code",
      "source": [
        "def chat_bot(input_text):\n",
        "  intent = get_intent_by_model(input_text)\n",
        "  return random.choice(BOT_CONFIG['intents'][intent]['responses'])\n",
        "  \n"
      ],
      "metadata": {
        "id": "DFo88n40V2b-"
      },
      "execution_count": 206,
      "outputs": []
    },
    {
      "cell_type": "code",
      "source": [
        "user_text = ''\n",
        "while user_text != \"стоп\":\n",
        "    user_text = input()\n",
        "    if user_text != \"стоп\":\n",
        "      response = chat_bot(user_text)\n",
        "      print(response)"
      ],
      "metadata": {
        "id": "FXoK_14NXdkP"
      },
      "execution_count": null,
      "outputs": []
    }
  ]
}